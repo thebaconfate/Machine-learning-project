{
 "cells": [
  {
   "cell_type": "markdown",
   "id": "e580caf8",
   "metadata": {},
   "source": [
    "### Required dependencies\n",
    "You'll need recent versions of Jupyter (but if you're reading this, you are probably OK), scikit-learn, numpy, pandas and matplotlib and/or seaborn. The most recent versions should be fine. You are free to use any other package under the sun, but I suspect you will be at least needing the above.\n",
    "\n",
    "I advise you to use a form of virtual environments to manage your python projects (e.g. venv, conda etc.).\n",
    "\n",
    "To get free GPU time, you can try Google Colab. It is a tool for running notebooks like this on the fly, and provides you with a VM and a GPU for free. Almost all packages for machine learning are automatically installed, and I suspect you could do the entire project on Colab if you wanted to. Still, it is useful to learn how to set up your environment on your own pc as well, and Colab is a bit more complicated when you have to import your datasets (best to import/download them from a Google Drive for speed instead of uploading them from local machines). Colab could become useful if you intend to try the deep learning approaches with TensorFlow and PyTorch, and you don't have a GPU yourself."
   ]
  },
  {
   "cell_type": "code",
   "execution_count": 25,
   "id": "28b5999c",
   "metadata": {},
   "outputs": [],
   "source": [
    "# numerical library:\n",
    "import numpy as np\n",
    "\n",
    "# data manipulation library:\n",
    "import pandas as pd\n",
    "\n",
    "# standard packages used to handle files:\n",
    "import sys\n",
    "import os \n",
    "import glob\n",
    "import time\n",
    "\n",
    "# scikit-learn machine learning library:\n",
    "import sklearn\n",
    "\n",
    "# plotting:\n",
    "import matplotlib.pyplot as plt\n",
    "\n",
    "# tell matplotlib that we plot in a notebook:\n",
    "%matplotlib inline"
   ]
  },
  {
   "cell_type": "markdown",
   "id": "d8ce32fd",
   "metadata": {},
   "source": [
    "Define your folder structure with your data:"
   ]
  },
  {
   "cell_type": "code",
   "execution_count": 2,
   "id": "d929682f",
   "metadata": {},
   "outputs": [],
   "source": [
    "data_folder = \"./\""
   ]
  },
  {
   "cell_type": "code",
   "execution_count": 3,
   "id": "53b8c8f5",
   "metadata": {},
   "outputs": [],
   "source": [
    "train_data = pd.read_csv(data_folder + \"train.csv\")\n",
    "test_data = pd.read_csv(data_folder + \"test.csv\")"
   ]
  },
  {
   "cell_type": "markdown",
   "id": "bd3cae93",
   "metadata": {},
   "source": [
    "### Data exploration\n",
    "Let's take a look at our train and test data:"
   ]
  },
  {
   "cell_type": "code",
   "execution_count": 4,
   "id": "0771c506",
   "metadata": {},
   "outputs": [
    {
     "data": {
      "text/html": [
       "<div>\n",
       "<style scoped>\n",
       "    .dataframe tbody tr th:only-of-type {\n",
       "        vertical-align: middle;\n",
       "    }\n",
       "\n",
       "    .dataframe tbody tr th {\n",
       "        vertical-align: top;\n",
       "    }\n",
       "\n",
       "    .dataframe thead th {\n",
       "        text-align: right;\n",
       "    }\n",
       "</style>\n",
       "<table border=\"1\" class=\"dataframe\">\n",
       "  <thead>\n",
       "    <tr style=\"text-align: right;\">\n",
       "      <th></th>\n",
       "      <th>Date</th>\n",
       "      <th>Hour</th>\n",
       "      <th>Temperature(C)</th>\n",
       "      <th>Humidity(%)</th>\n",
       "      <th>Wind speed (m/s)</th>\n",
       "      <th>Visibility (10m)</th>\n",
       "      <th>Dew point temperature(C)</th>\n",
       "      <th>Solar Radiation (MJ/m2)</th>\n",
       "      <th>Rainfall(mm)</th>\n",
       "      <th>Snowfall (cm)</th>\n",
       "      <th>Seasons</th>\n",
       "      <th>Holiday</th>\n",
       "      <th>Functioning Day</th>\n",
       "      <th>E-scooter Count</th>\n",
       "    </tr>\n",
       "  </thead>\n",
       "  <tbody>\n",
       "    <tr>\n",
       "      <th>0</th>\n",
       "      <td>03/06/2018</td>\n",
       "      <td>15</td>\n",
       "      <td>30.7</td>\n",
       "      <td>21</td>\n",
       "      <td>2.5</td>\n",
       "      <td>1876</td>\n",
       "      <td>5.8</td>\n",
       "      <td>2.95</td>\n",
       "      <td>0.0</td>\n",
       "      <td>0.0</td>\n",
       "      <td>Summer</td>\n",
       "      <td>No Holiday</td>\n",
       "      <td>Yes</td>\n",
       "      <td>1556</td>\n",
       "    </tr>\n",
       "    <tr>\n",
       "      <th>1</th>\n",
       "      <td>22/11/2018</td>\n",
       "      <td>15</td>\n",
       "      <td>6.9</td>\n",
       "      <td>31</td>\n",
       "      <td>2.9</td>\n",
       "      <td>1982</td>\n",
       "      <td>-9.1</td>\n",
       "      <td>1.21</td>\n",
       "      <td>0.0</td>\n",
       "      <td>0.0</td>\n",
       "      <td>Autumn</td>\n",
       "      <td>No Holiday</td>\n",
       "      <td>Yes</td>\n",
       "      <td>716</td>\n",
       "    </tr>\n",
       "    <tr>\n",
       "      <th>2</th>\n",
       "      <td>23/08/2018</td>\n",
       "      <td>6</td>\n",
       "      <td>28.3</td>\n",
       "      <td>55</td>\n",
       "      <td>1.5</td>\n",
       "      <td>2000</td>\n",
       "      <td>18.3</td>\n",
       "      <td>0.00</td>\n",
       "      <td>0.0</td>\n",
       "      <td>0.0</td>\n",
       "      <td>Summer</td>\n",
       "      <td>No Holiday</td>\n",
       "      <td>Yes</td>\n",
       "      <td>492</td>\n",
       "    </tr>\n",
       "    <tr>\n",
       "      <th>3</th>\n",
       "      <td>01/01/2018</td>\n",
       "      <td>20</td>\n",
       "      <td>-0.3</td>\n",
       "      <td>40</td>\n",
       "      <td>1.2</td>\n",
       "      <td>1936</td>\n",
       "      <td>-12.2</td>\n",
       "      <td>0.00</td>\n",
       "      <td>0.0</td>\n",
       "      <td>0.0</td>\n",
       "      <td>Winter</td>\n",
       "      <td>Holiday</td>\n",
       "      <td>Yes</td>\n",
       "      <td>206</td>\n",
       "    </tr>\n",
       "    <tr>\n",
       "      <th>4</th>\n",
       "      <td>18/07/2018</td>\n",
       "      <td>10</td>\n",
       "      <td>28.9</td>\n",
       "      <td>61</td>\n",
       "      <td>1.5</td>\n",
       "      <td>941</td>\n",
       "      <td>20.6</td>\n",
       "      <td>2.04</td>\n",
       "      <td>0.0</td>\n",
       "      <td>0.0</td>\n",
       "      <td>Summer</td>\n",
       "      <td>No Holiday</td>\n",
       "      <td>Yes</td>\n",
       "      <td>722</td>\n",
       "    </tr>\n",
       "  </tbody>\n",
       "</table>\n",
       "</div>"
      ],
      "text/plain": [
       "         Date  Hour  Temperature(C)  Humidity(%)  Wind speed (m/s)  \\\n",
       "0  03/06/2018    15            30.7           21               2.5   \n",
       "1  22/11/2018    15             6.9           31               2.9   \n",
       "2  23/08/2018     6            28.3           55               1.5   \n",
       "3  01/01/2018    20            -0.3           40               1.2   \n",
       "4  18/07/2018    10            28.9           61               1.5   \n",
       "\n",
       "   Visibility (10m)  Dew point temperature(C)  Solar Radiation (MJ/m2)  \\\n",
       "0              1876                       5.8                     2.95   \n",
       "1              1982                      -9.1                     1.21   \n",
       "2              2000                      18.3                     0.00   \n",
       "3              1936                     -12.2                     0.00   \n",
       "4               941                      20.6                     2.04   \n",
       "\n",
       "   Rainfall(mm)  Snowfall (cm) Seasons     Holiday Functioning Day  \\\n",
       "0           0.0            0.0  Summer  No Holiday             Yes   \n",
       "1           0.0            0.0  Autumn  No Holiday             Yes   \n",
       "2           0.0            0.0  Summer  No Holiday             Yes   \n",
       "3           0.0            0.0  Winter     Holiday             Yes   \n",
       "4           0.0            0.0  Summer  No Holiday             Yes   \n",
       "\n",
       "   E-scooter Count  \n",
       "0             1556  \n",
       "1              716  \n",
       "2              492  \n",
       "3              206  \n",
       "4              722  "
      ]
     },
     "execution_count": 4,
     "metadata": {},
     "output_type": "execute_result"
    }
   ],
   "source": [
    "train_data.head()"
   ]
  },
  {
   "cell_type": "markdown",
   "id": "34e6313f",
   "metadata": {},
   "source": [
    "Let's take a look at our first 200 datapoints in the training set (which spans about the entire time period of all the data, but only 200 random samples of it!):"
   ]
  },
  {
   "cell_type": "code",
   "execution_count": 28,
   "id": "5d9d4222",
   "metadata": {},
   "outputs": [
    {
     "data": {
      "text/plain": [
       "<AxesSubplot:xlabel='Date'>"
      ]
     },
     "execution_count": 28,
     "metadata": {},
     "output_type": "execute_result"
    },
    {
     "data": {
      "image/png": "[encoded data removed]",
      "text/plain": [
       "<Figure size 720x504 with 1 Axes>"
      ]
     },
     "metadata": {
      "needs_background": "light"
     },
     "output_type": "display_data"
    }
   ],
   "source": [
    "train_data[0:200].plot(kind='line', x=\"Date\", y=\"E-scooter Count\", figsize=(10,7))"
   ]
  },
  {
   "cell_type": "code",
   "execution_count": 6,
   "id": "e6f1068a",
   "metadata": {},
   "outputs": [
    {
     "data": {
      "text/html": [
       "<div>\n",
       "<style scoped>\n",
       "    .dataframe tbody tr th:only-of-type {\n",
       "        vertical-align: middle;\n",
       "    }\n",
       "\n",
       "    .dataframe tbody tr th {\n",
       "        vertical-align: top;\n",
       "    }\n",
       "\n",
       "    .dataframe thead th {\n",
       "        text-align: right;\n",
       "    }\n",
       "</style>\n",
       "<table border=\"1\" class=\"dataframe\">\n",
       "  <thead>\n",
       "    <tr style=\"text-align: right;\">\n",
       "      <th></th>\n",
       "      <th>Date</th>\n",
       "      <th>Hour</th>\n",
       "      <th>Temperature(C)</th>\n",
       "      <th>Humidity(%)</th>\n",
       "      <th>Wind speed (m/s)</th>\n",
       "      <th>Visibility (10m)</th>\n",
       "      <th>Dew point temperature(C)</th>\n",
       "      <th>Solar Radiation (MJ/m2)</th>\n",
       "      <th>Rainfall(mm)</th>\n",
       "      <th>Snowfall (cm)</th>\n",
       "      <th>Seasons</th>\n",
       "      <th>Holiday</th>\n",
       "      <th>Functioning Day</th>\n",
       "    </tr>\n",
       "  </thead>\n",
       "  <tbody>\n",
       "    <tr>\n",
       "      <th>0</th>\n",
       "      <td>09/03/2018</td>\n",
       "      <td>21</td>\n",
       "      <td>3.5</td>\n",
       "      <td>69</td>\n",
       "      <td>1.4</td>\n",
       "      <td>1177</td>\n",
       "      <td>-1.6</td>\n",
       "      <td>0.0</td>\n",
       "      <td>0.0</td>\n",
       "      <td>0.0</td>\n",
       "      <td>Spring</td>\n",
       "      <td>No Holiday</td>\n",
       "      <td>Yes</td>\n",
       "    </tr>\n",
       "    <tr>\n",
       "      <th>1</th>\n",
       "      <td>06/01/2018</td>\n",
       "      <td>6</td>\n",
       "      <td>-6.5</td>\n",
       "      <td>67</td>\n",
       "      <td>0.7</td>\n",
       "      <td>1175</td>\n",
       "      <td>-11.6</td>\n",
       "      <td>0.0</td>\n",
       "      <td>0.0</td>\n",
       "      <td>0.0</td>\n",
       "      <td>Winter</td>\n",
       "      <td>No Holiday</td>\n",
       "      <td>Yes</td>\n",
       "    </tr>\n",
       "    <tr>\n",
       "      <th>2</th>\n",
       "      <td>19/09/2018</td>\n",
       "      <td>4</td>\n",
       "      <td>19.5</td>\n",
       "      <td>70</td>\n",
       "      <td>0.5</td>\n",
       "      <td>2000</td>\n",
       "      <td>13.8</td>\n",
       "      <td>0.0</td>\n",
       "      <td>0.0</td>\n",
       "      <td>0.0</td>\n",
       "      <td>Autumn</td>\n",
       "      <td>No Holiday</td>\n",
       "      <td>No</td>\n",
       "    </tr>\n",
       "    <tr>\n",
       "      <th>3</th>\n",
       "      <td>25/11/2018</td>\n",
       "      <td>21</td>\n",
       "      <td>4.7</td>\n",
       "      <td>81</td>\n",
       "      <td>1.0</td>\n",
       "      <td>437</td>\n",
       "      <td>1.7</td>\n",
       "      <td>0.0</td>\n",
       "      <td>0.0</td>\n",
       "      <td>0.4</td>\n",
       "      <td>Autumn</td>\n",
       "      <td>No Holiday</td>\n",
       "      <td>Yes</td>\n",
       "    </tr>\n",
       "    <tr>\n",
       "      <th>4</th>\n",
       "      <td>29/08/2018</td>\n",
       "      <td>19</td>\n",
       "      <td>23.5</td>\n",
       "      <td>97</td>\n",
       "      <td>0.3</td>\n",
       "      <td>323</td>\n",
       "      <td>22.9</td>\n",
       "      <td>0.0</td>\n",
       "      <td>6.5</td>\n",
       "      <td>0.0</td>\n",
       "      <td>Summer</td>\n",
       "      <td>No Holiday</td>\n",
       "      <td>Yes</td>\n",
       "    </tr>\n",
       "  </tbody>\n",
       "</table>\n",
       "</div>"
      ],
      "text/plain": [
       "         Date  Hour  Temperature(C)  Humidity(%)  Wind speed (m/s)  \\\n",
       "0  09/03/2018    21             3.5           69               1.4   \n",
       "1  06/01/2018     6            -6.5           67               0.7   \n",
       "2  19/09/2018     4            19.5           70               0.5   \n",
       "3  25/11/2018    21             4.7           81               1.0   \n",
       "4  29/08/2018    19            23.5           97               0.3   \n",
       "\n",
       "   Visibility (10m)  Dew point temperature(C)  Solar Radiation (MJ/m2)  \\\n",
       "0              1177                      -1.6                      0.0   \n",
       "1              1175                     -11.6                      0.0   \n",
       "2              2000                      13.8                      0.0   \n",
       "3               437                       1.7                      0.0   \n",
       "4               323                      22.9                      0.0   \n",
       "\n",
       "   Rainfall(mm)  Snowfall (cm) Seasons     Holiday Functioning Day  \n",
       "0           0.0            0.0  Spring  No Holiday             Yes  \n",
       "1           0.0            0.0  Winter  No Holiday             Yes  \n",
       "2           0.0            0.0  Autumn  No Holiday              No  \n",
       "3           0.0            0.4  Autumn  No Holiday             Yes  \n",
       "4           6.5            0.0  Summer  No Holiday             Yes  "
      ]
     },
     "execution_count": 6,
     "metadata": {},
     "output_type": "execute_result"
    }
   ],
   "source": [
    "test_data.head()"
   ]
  },
  {
   "cell_type": "markdown",
   "id": "1d982277",
   "metadata": {},
   "source": [
    "### Building a first submission\n",
    "\n",
    "For a first submission, let's just take the average consumption for the E-scooter count of the training set, and use this value for all test samples:"
   ]
  },
  {
   "cell_type": "code",
   "execution_count": 7,
   "id": "1901220f",
   "metadata": {},
   "outputs": [
    {
     "name": "stdout",
     "output_type": "stream",
     "text": [
      "700.9802\n"
     ]
    }
   ],
   "source": [
    "average_count = train_data[\"E-scooter Count\"].mean()\n",
    "print(average_count)"
   ]
  },
  {
   "cell_type": "markdown",
   "id": "f1e924d6",
   "metadata": {},
   "source": [
    "Let's put this in a numpy array with length of our test dataset. For the assignment, 'predictions' will be the output of your machine learning models, instead of just creating this average guess:"
   ]
  },
  {
   "cell_type": "code",
   "execution_count": 30,
   "id": "a33166d7",
   "metadata": {},
   "outputs": [
    {
     "data": {
      "text/plain": [
       "3760"
      ]
     },
     "execution_count": 30,
     "metadata": {},
     "output_type": "execute_result"
    }
   ],
   "source": [
    "predictions = np.full(test_data.shape[0], average_count)\n",
    "len(predictions)"
   ]
  },
  {
   "cell_type": "markdown",
   "id": "690184b0",
   "metadata": {},
   "source": [
    "Create a unique filename based on timestamp:"
   ]
  },
  {
   "cell_type": "code",
   "execution_count": 9,
   "id": "3751637f",
   "metadata": {},
   "outputs": [],
   "source": [
    "def generate_unique_filename(basename, file_ext):\n",
    "    \"\"\"Adds a timestamp to filenames for easier tracking of submissions, models, etc.\"\"\"\n",
    "    timestamp = time.strftime(\"%Y%m%d-%H%M%S\", time.localtime())\n",
    "    return basename + '_' + timestamp + '.' + file_ext"
   ]
  },
  {
   "cell_type": "markdown",
   "id": "4be5d704",
   "metadata": {},
   "source": [
    "Let's create our pandas dataframe and write it to csv. You can submit this file to Kaggle. It is very important that your submission also has the 'Id' and 'Predicted' column, with the Ids corresponding to the index of the test dataset. Normally your test data does not get mixed when doing predictions, so this should not be a problem."
   ]
  },
  {
   "cell_type": "code",
   "execution_count": 10,
   "id": "5e64b6ed",
   "metadata": {},
   "outputs": [
    {
     "data": {
      "text/html": [
       "<div>\n",
       "<style scoped>\n",
       "    .dataframe tbody tr th:only-of-type {\n",
       "        vertical-align: middle;\n",
       "    }\n",
       "\n",
       "    .dataframe tbody tr th {\n",
       "        vertical-align: top;\n",
       "    }\n",
       "\n",
       "    .dataframe thead th {\n",
       "        text-align: right;\n",
       "    }\n",
       "</style>\n",
       "<table border=\"1\" class=\"dataframe\">\n",
       "  <thead>\n",
       "    <tr style=\"text-align: right;\">\n",
       "      <th></th>\n",
       "      <th>Id</th>\n",
       "      <th>Predicted</th>\n",
       "    </tr>\n",
       "  </thead>\n",
       "  <tbody>\n",
       "    <tr>\n",
       "      <th>0</th>\n",
       "      <td>0</td>\n",
       "      <td>700.9802</td>\n",
       "    </tr>\n",
       "    <tr>\n",
       "      <th>1</th>\n",
       "      <td>1</td>\n",
       "      <td>700.9802</td>\n",
       "    </tr>\n",
       "    <tr>\n",
       "      <th>2</th>\n",
       "      <td>2</td>\n",
       "      <td>700.9802</td>\n",
       "    </tr>\n",
       "    <tr>\n",
       "      <th>3</th>\n",
       "      <td>3</td>\n",
       "      <td>700.9802</td>\n",
       "    </tr>\n",
       "    <tr>\n",
       "      <th>4</th>\n",
       "      <td>4</td>\n",
       "      <td>700.9802</td>\n",
       "    </tr>\n",
       "  </tbody>\n",
       "</table>\n",
       "</div>"
      ],
      "text/plain": [
       "   Id  Predicted\n",
       "0   0   700.9802\n",
       "1   1   700.9802\n",
       "2   2   700.9802\n",
       "3   3   700.9802\n",
       "4   4   700.9802"
      ]
     },
     "execution_count": 10,
     "metadata": {},
     "output_type": "execute_result"
    }
   ],
   "source": [
    "submission = pd.DataFrame(data=predictions, columns=[\"Predicted\"])\n",
    "submission.reset_index(inplace=True)\n",
    "submission = submission.rename(columns = {'index':'Id'})\n",
    "submission.head()"
   ]
  },
  {
   "cell_type": "code",
   "execution_count": 11,
   "id": "426c5a45",
   "metadata": {},
   "outputs": [],
   "source": [
    "submission.to_csv(generate_unique_filename(\"average_submission\", \"csv\"), index=False)"
   ]
  },
  {
   "cell_type": "code",
   "execution_count": null,
   "id": "fb8db1ad",
   "metadata": {},
   "outputs": [],
   "source": []
  }
 ],
 "metadata": {
  "kernelspec": {
   "display_name": "Python 3",
   "language": "python",
   "name": "python3"
  },
  "language_info": {
   "codemirror_mode": {
    "name": "ipython",
    "version": 3
   },
   "file_extension": ".py",
   "mimetype": "text/x-python",
   "name": "python",
   "nbconvert_exporter": "python",
   "pygments_lexer": "ipython3",
   "version": "3.10.2"
  },
  "vscode": {
   "interpreter": {
    "hash": "94fd35bdfbdadf0cce7f7ebd34d4304e9f552af4e7bb7e536a3d4281b53fd810"
   }
  }
 },
 "nbformat": 4,
 "nbformat_minor": 5
}
